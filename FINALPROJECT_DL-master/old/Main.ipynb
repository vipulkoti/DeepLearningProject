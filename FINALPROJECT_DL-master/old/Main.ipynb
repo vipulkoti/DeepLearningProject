{
 "cells": [
  {
   "cell_type": "markdown",
   "metadata": {},
   "source": [
    "# Download dataset from: https://www.kaggle.com/datasets/sayanf/flickr8k"
   ]
  },
  {
   "cell_type": "markdown",
   "metadata": {},
   "source": [
    "### Citations -\n",
    "https://www.analyticsvidhya.com/blog/2021/01/implementation-of-attention-mechanism-for-caption-generation-on-transformers-using-tensorflow/"
   ]
  },
  {
   "cell_type": "code",
   "execution_count": 50,
   "metadata": {
    "tags": []
   },
   "outputs": [],
   "source": [
    "import string\n",
    "import os\n",
    "\n",
    "import numpy as np\n",
    "import pandas as pd\n",
    "\n",
    "import matplotlib.pyplot as plt\n",
    "\n",
    "import glob\n",
    "\n",
    "from tqdm import tqdm\n",
    "\n",
    "import tensorflow as tf\n",
    "from tensorflow.keras.preprocessing import image\n",
    "from keras.preprocessing.text import Tokenizer\n",
    "from keras_preprocessing.sequence import pad_sequences\n",
    "\n",
    "from enum import Enum\n",
    "import json"
   ]
  },
  {
   "cell_type": "markdown",
   "metadata": {},
   "source": [
    "### Data preprocessing and Dataset cleanup"
   ]
  },
  {
   "cell_type": "code",
   "execution_count": null,
   "metadata": {
    "collapsed": true
   },
   "outputs": [],
   "source": [
    "# class syntax\n",
    "class DataSplit(Enum):\n",
    "    TRAIN = 0\n",
    "    VAL = 1\n",
    "    TEST = 2\n",
    "\n",
    "MAX_TOKENIZED_LENGTH = 36\n",
    "\n",
    "image_dir_path = \"./archive/Flickr8k_Dataset/\"\n",
    "caption_file_path = './archive/Flickr8k_text/Flickr8k.token.txt'\n",
    "train_img_file_path = './archive/Flickr8k_text/Flickr_8k.trainImages.txt'\n",
    "test_img_file_path = './archive/Flickr8k_text/Flickr_8k.testImages.txt'\n",
    "val_img_file_path = './archive/Flickr8k_text/Flickr_8k.devImages.txt'\n",
    "images = os.listdir(image_dir_path)\n",
    "captions_text = open(caption_file_path,'r').read()\n",
    "\n",
    "print(\"Total Images in Dataset - {}\\n\".format(len(images)))\n",
    "print(\"Sample Caption Details - \\n{}\".format(captions_text[:696]))"
   ]
  },
  {
   "cell_type": "markdown",
   "metadata": {},
   "source": [
    "Captions Text to Dictionary"
   ]
  },
  {
   "cell_type": "code",
   "execution_count": 3,
   "metadata": {},
   "outputs": [],
   "source": [
    "captions = dict()\n",
    "for line in captions_text.split('\\n'):\n",
    "        tokens = line.split()\n",
    "        if len(line) > 2:\n",
    "          image_id = tokens[0].split('.')[0]\n",
    "          image_desc = ' '.join(tokens[1:])\n",
    "          if image_id not in captions:\n",
    "              captions[image_id] = list()\n",
    "          captions[image_id].append(image_desc)"
   ]
  },
  {
   "cell_type": "markdown",
   "metadata": {},
   "source": [
    "Basic Text clean-up to convert all text to lower case and remove punctuations"
   ]
  },
  {
   "cell_type": "code",
   "execution_count": 4,
   "metadata": {},
   "outputs": [],
   "source": [
    "table = str.maketrans('', '', string.punctuation)\n",
    "for key, caption_list in captions.items():\n",
    "    for i in range(len(caption_list)):\n",
    "        desc = caption_list[i]\n",
    "        desc = desc.split()\n",
    "        desc = [word.lower() for word in desc]\n",
    "        desc = [word.translate(table) for word in desc]\n",
    "        caption_list[i] =  ' '.join(desc).strip()"
   ]
  },
  {
   "cell_type": "markdown",
   "metadata": {},
   "source": [
    "Sample Image and caption"
   ]
  },
  {
   "cell_type": "code",
   "execution_count": null,
   "metadata": {},
   "outputs": [],
   "source": [
    "pic = '36422830_55c844bc2d.jpg'\n",
    "x=plt.imread(image_dir_path+pic)\n",
    "plt.imshow(x)\n",
    "plt.show()\n",
    "captions['36422830_55c844bc2d']"
   ]
  },
  {
   "cell_type": "markdown",
   "metadata": {},
   "source": [
    "# Pre Process Text"
   ]
  },
  {
   "cell_type": "markdown",
   "metadata": {},
   "source": [
    "Creating Vocabulary; Caption Tokenizer and padding"
   ]
  },
  {
   "cell_type": "code",
   "execution_count": 6,
   "metadata": {},
   "outputs": [
    {
     "name": "stdout",
     "output_type": "stream",
     "text": [
      "Original Vocabulary Size: 8828\n"
     ]
    }
   ],
   "source": [
    "vocabulary = set()\n",
    "for key in captions.keys():\n",
    "        [vocabulary.update(d.split()) for d in captions[key]]\n",
    "\n",
    "original_vocab_size = len(vocabulary)\n",
    "        \n",
    "print('Original Vocabulary Size: %d' % original_vocab_size)"
   ]
  },
  {
   "cell_type": "code",
   "execution_count": 7,
   "metadata": {},
   "outputs": [],
   "source": [
    "#Can Explore reducing the vocab size based on running experiments"
   ]
  },
  {
   "cell_type": "code",
   "execution_count": 8,
   "metadata": {},
   "outputs": [],
   "source": [
    "def tokenize(x):\n",
    "    tokenizer=Tokenizer()\n",
    "    tokenizer.fit_on_texts(x)\n",
    "    t=tokenizer.texts_to_sequences(x)\n",
    "    return t, tokenizer"
   ]
  },
  {
   "cell_type": "code",
   "execution_count": 52,
   "metadata": {},
   "outputs": [],
   "source": [
    "def pad(x, length=MAX_TOKENIZED_LENGTH):\n",
    "    padding=pad_sequences(x,padding='post',maxlen=length)\n",
    "    return padding"
   ]
  },
  {
   "cell_type": "code",
   "execution_count": 10,
   "metadata": {},
   "outputs": [
    {
     "name": "stdout",
     "output_type": "stream",
     "text": [
      "Description Length: 36\n"
     ]
    }
   ],
   "source": [
    "all_captions_list = list()\n",
    "for image_id in captions.keys():\n",
    "    [all_captions_list.append(caption) for caption in captions[image_id]]\n",
    "\n",
    "max_length = max(len(caption.split()) for caption in all_captions_list)\n",
    "print('Description Length: %d' % max_length)"
   ]
  },
  {
   "cell_type": "code",
   "execution_count": null,
   "metadata": {},
   "outputs": [],
   "source": [
    "print(all_captions_list)\n",
    "caption_tokenized, text_tokenizer = tokenize(all_captions_list)\n",
    "print(text_tokenizer.word_index)\n",
    "print()\n",
    "\n",
    "for i in range(5):\n",
    "    print('Input:  {}'.format(all_captions_list[i]))\n",
    "    print('Output: {}'.format(caption_tokenized[i]))"
   ]
  },
  {
   "cell_type": "code",
   "execution_count": 12,
   "metadata": {},
   "outputs": [
    {
     "data": {
      "text/plain": [
       "40460"
      ]
     },
     "execution_count": 12,
     "metadata": {},
     "output_type": "execute_result"
    }
   ],
   "source": [
    "len(all_captions_list)"
   ]
  },
  {
   "cell_type": "code",
   "execution_count": null,
   "metadata": {},
   "outputs": [],
   "source": [
    "caption_padded = pad(caption_tokenized)\n",
    "\n",
    "for i in range(5):\n",
    "    print('Input:  {}'.format(caption_tokenized[i]))\n",
    "    print('Output: {}'.format(caption_padded[i]))"
   ]
  },
  {
   "cell_type": "markdown",
   "metadata": {},
   "source": [
    "Generating Train and Test Sets"
   ]
  },
  {
   "cell_type": "code",
   "execution_count": 14,
   "metadata": {},
   "outputs": [
    {
     "name": "stdout",
     "output_type": "stream",
     "text": [
      "Train Dataset size: 6000\n",
      "Test Dataset size: 1000\n",
      "Validation Dataset size: 1000\n"
     ]
    }
   ],
   "source": [
    "train_img = open(train_img_file_path,'r').read()\n",
    "train = list()\n",
    "for line in train_img.split('\\n'):\n",
    "    if len(line) > 1:\n",
    "      image_id = line.split('.')[0]\n",
    "      train.append(image_id)\n",
    "train = set(train)\n",
    "print('Train Dataset size: %d' % len(train))\n",
    "\n",
    "\n",
    "test_img = open(test_img_file_path,'r').read()\n",
    "test = list()\n",
    "for line in test_img.split('\\n'):\n",
    "    if len(line) > 1:\n",
    "      image_id = line.split('.')[0]\n",
    "      test.append(image_id)\n",
    "test = set(test)\n",
    "print('Test Dataset size: %d' % len(test))\n",
    "\n",
    "\n",
    "val_img = open(val_img_file_path,'r').read()\n",
    "val = list()\n",
    "for line in val_img.split('\\n'):\n",
    "    if len(line) > 1:\n",
    "      image_id = line.split('.')[0]\n",
    "      val.append(image_id)\n",
    "val = set(val)\n",
    "print('Validation Dataset size: %d' % len(val))"
   ]
  },
  {
   "cell_type": "code",
   "execution_count": 15,
   "metadata": {},
   "outputs": [],
   "source": [
    "images = glob.glob(image_dir_path + '*.jpg')"
   ]
  },
  {
   "cell_type": "code",
   "execution_count": 16,
   "metadata": {},
   "outputs": [
    {
     "name": "stdout",
     "output_type": "stream",
     "text": [
      "Train Dataset size: 6000\n",
      "Test Dataset size: 1000\n",
      "Validation Dataset size: 1000\n"
     ]
    }
   ],
   "source": [
    "train_images = set(open(train_img_file_path, 'r').read().strip().split('\\n'))\n",
    "train_img = []\n",
    "for i in images: \n",
    "    if i[len(image_dir_path):] in train_images:\n",
    "        train_img.append(i)\n",
    "        \n",
    "test_images = set(open(test_img_file_path, 'r').read().strip().split('\\n'))\n",
    "test_img = []\n",
    "for i in images: \n",
    "    if i[len(image_dir_path):] in test_images: \n",
    "        test_img.append(i)\n",
    "        \n",
    "val_images = set(open(val_img_file_path, 'r').read().strip().split('\\n'))\n",
    "val_img = []\n",
    "for i in images: \n",
    "    if i[len(image_dir_path):] in val_images: \n",
    "        val_img.append(i)\n",
    "\n",
    "print('Train Dataset size: %d' % len(train_img))\n",
    "print('Test Dataset size: %d' % len(test_img))\n",
    "print('Validation Dataset size: %d' % len(val_img))"
   ]
  },
  {
   "cell_type": "code",
   "execution_count": null,
   "metadata": {},
   "outputs": [],
   "source": [
    "# Save the plaintext and tokenized captions per image filename in dicts\n",
    "# Args: Enum DataSplit split type\n",
    "# Return: (plaintext_caption list, tokenized_caption list)\n",
    "def save_final_text_split(split_type):\n",
    "    # Get the split type we're working with\n",
    "    split_set = None\n",
    "    if split_type == DataSplit.TRAIN:\n",
    "        split_set = train\n",
    "    if split_type == DataSplit.VAL:\n",
    "        split_set = val\n",
    "    if split_type == DataSplit.TEST:\n",
    "        split_set = test\n",
    "\n",
    "    # Parse out the captions + tokenize\n",
    "    plaintext_captions = dict()\n",
    "    token_captions = dict()\n",
    "    for image_id in captions.keys():\n",
    "        if image_id in split_set:\n",
    "            if image_id not in plaintext_captions:\n",
    "                plaintext_captions[image_id] = list()\n",
    "            for caption in captions[image_id]:\n",
    "                new_caption = 'startseq ' + caption + ' endseq'\n",
    "                plaintext_captions[image_id].append(new_caption)\n",
    "            token_captions[image_id] = pad(text_tokenizer.texts_to_sequences(plaintext_captions[image_id]))\n",
    "    \n",
    "    return plaintext_captions, token_captions\n",
    "\n",
    "train_captions, tok_train_captions = save_final_text_split(DataSplit.TRAIN)\n",
    "val_captions, tok_val_captions = save_final_text_split(DataSplit.VAL)\n",
    "test_captions, tok_test_captions = save_final_text_split(DataSplit.TEST)\n",
    "\n",
    "print(\"EXAMPLE\")\n",
    "print(f\"Train Captions size: {len(train_captions)}\\n\")\n",
    "print(f\"Caption before - \\n {captions['36422830_55c844bc2d']}\\n\")\n",
    "print(f\"Caption after - \\n {train_captions['36422830_55c844bc2d']}\\n\")\n",
    "print(f\"Tokenized captions - \\n {tok_train_captions['36422830_55c844bc2d']}\\n\")\n"
   ]
  },
  {
   "attachments": {
    "image.png": {
     "image/png": "[encoded data removed]"
    }
   },
   "cell_type": "markdown",
   "metadata": {},
   "source": [
    "# Pre-process Images\n",
    "\n",
    "cite:- https://towardsdatascience.com/image-captions-with-attention-in-tensorflow-step-by-step-927dad3569fa (TODO: params changes & image cleanup, for now just for understanding)\n",
    "\n",
    "We will use a pre-trained Inception model, We download this pre-trained model, truncate the Classifier section and encode the training images. The features for each encoded image are saved in a separate file using the image name and another extension eg. ‘1000268201_693b08cb0e.npy’\n",
    "\n",
    "![image.png](attachment:image.png)"
   ]
  },
  {
   "cell_type": "code",
   "execution_count": 18,
   "metadata": {},
   "outputs": [],
   "source": [
    "\n",
    "# TODO: Cleanup Comments\n",
    "# We must remember that we do not need to classify the images here, \n",
    "# we only need to extract an image vector for our images. \n",
    "# Hence we remove the softmax layer from the model. We must all \n",
    "# preprocess all the images to the same size, i.e, 299×299\n",
    "\n",
    "# TODO: Looks like this is just copied code\n",
    "\n",
    "def load_image(image_path):\n",
    "    img = tf.io.read_file(image_path)\n",
    "    img = tf.image.decode_jpeg(img, channels=3)\n",
    "    img = tf.image.resize(img, (299, 299))\n",
    "    img = tf.keras.applications.inception_v3.preprocess_input(img)\n",
    "    return img, image_path"
   ]
  },
  {
   "cell_type": "code",
   "execution_count": 19,
   "metadata": {},
   "outputs": [],
   "source": [
    "# TODO: Looks like this is just copied code\n",
    "\n",
    "image_model = tf.keras.applications.InceptionV3(include_top=False,\n",
    "                                                weights='imagenet')\n",
    "new_input = image_model.input\n",
    "hidden_layer = image_model.layers[-1].output\n",
    "\n",
    "image_features_extract_model = tf.keras.Model(new_input, hidden_layer)"
   ]
  },
  {
   "cell_type": "code",
   "execution_count": null,
   "metadata": {},
   "outputs": [],
   "source": [
    "# TODO: Looks like this is just copied code\n",
    "import pathlib\n",
    "\n",
    "# pre processing Images in the same path as images earlier.\n",
    "# Get unique images so set\n",
    "encoded_img_set = set(train_img)\n",
    "encoded_img_set.update(val_img)\n",
    "encoded_img_set.update(test_img)\n",
    "encoded_img_set = sorted(encoded_img_set)\n",
    "\n",
    "# batch_size according to system configuration\n",
    "image_dataset = tf.data.Dataset.from_tensor_slices(encoded_img_set)\n",
    "image_dataset = image_dataset.map(\n",
    "  load_image, num_parallel_calls=tf.data.experimental.AUTOTUNE).batch(16)\n",
    "\n",
    "# image_features_extract_model CNN model on images\n",
    "# We extract the features and store them in the respective .npy files\n",
    "for img, path in tqdm(image_dataset):\n",
    "  batch_features = image_features_extract_model(img)\n",
    "  batch_features = tf.reshape(batch_features,\n",
    "                              (batch_features.shape[0], -1, batch_features.shape[3]))\n",
    "\n",
    "  for bf, p in zip(batch_features, path):\n",
    "    path_of_feature = p.numpy().decode(\"utf-8\")\n",
    "    np.save(path_of_feature, bf.numpy())"
   ]
  }
 ],
 "metadata": {
  "kernelspec": {
   "display_name": "Python 3 (ipykernel)",
   "language": "python",
   "name": "python3"
  },
  "language_info": {
   "codemirror_mode": {
    "name": "ipython",
    "version": 3
   },
   "file_extension": ".py",
   "mimetype": "text/x-python",
   "name": "python",
   "nbconvert_exporter": "python",
   "pygments_lexer": "ipython3",
   "version": "3.9.12"
  }
 },
 "nbformat": 4,
 "nbformat_minor": 5
}
